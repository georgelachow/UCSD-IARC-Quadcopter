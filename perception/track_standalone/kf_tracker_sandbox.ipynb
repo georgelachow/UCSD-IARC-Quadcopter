{
 "cells": [
  {
   "cell_type": "code",
   "execution_count": 1,
   "metadata": {
    "collapsed": true
   },
   "outputs": [],
   "source": [
    "def gaussian_multiply(g1,g2):\n",
    "    mu1, var1 = g1\n",
    "    mu2, var2 = g2\n",
    "    mean = (var1*mu2 + var2*mul) / (var1 + var2)\n",
    "    variance = (var1 * var2) / (var1 + var2)\n",
    "    return (mean, variance)\n",
    "\n",
    "def update(likelihood, prior):\n",
    "    posterior = likelihood * prior\n",
    "    return normalize(posterior)\n",
    "\n",
    "\"\"\"\n",
    "def update_dog(dog_pos, dog_var, measurement, measurement_var):\n",
    "    estimated_pos = gaussian_multiply(\n",
    "        (dog_pos, dog_var), \n",
    "        (measurement, measurement_var))\n",
    "    return estimated_pos\n",
    "\"\"\"\n"
   ]
  }
 ],
 "metadata": {
  "kernelspec": {
   "display_name": "Python 2",
   "language": "python",
   "name": "python2"
  },
  "language_info": {
   "codemirror_mode": {
    "name": "ipython",
    "version": 2
   },
   "file_extension": ".py",
   "mimetype": "text/x-python",
   "name": "python",
   "nbconvert_exporter": "python",
   "pygments_lexer": "ipython2",
   "version": "2.7.6"
  }
 },
 "nbformat": 4,
 "nbformat_minor": 2
}
